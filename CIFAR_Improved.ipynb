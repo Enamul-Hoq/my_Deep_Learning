{
  "nbformat": 4,
  "nbformat_minor": 0,
  "metadata": {
    "colab": {
      "provenance": [],
      "authorship_tag": "ABX9TyO/FlJIFxEa8bqZosXLYXAJ",
      "include_colab_link": true
    },
    "kernelspec": {
      "name": "python3",
      "display_name": "Python 3"
    },
    "language_info": {
      "name": "python"
    },
    "accelerator": "GPU",
    "gpuClass": "standard"
  },
  "cells": [
    {
      "cell_type": "markdown",
      "metadata": {
        "id": "view-in-github",
        "colab_type": "text"
      },
      "source": [
        "<a href=\"https://colab.research.google.com/github/Enamul-Hoq/my_Deep_Learning/blob/main/CIFAR_Improved.ipynb\" target=\"_parent\"><img src=\"https://colab.research.google.com/assets/colab-badge.svg\" alt=\"Open In Colab\"/></a>"
      ]
    },
    {
      "cell_type": "code",
      "execution_count": 8,
      "metadata": {
        "colab": {
          "base_uri": "https://localhost:8080/"
        },
        "id": "jUSXhDEMnIVV",
        "outputId": "b5cd509e-1591-443b-bf16-048ca9bd906b"
      },
      "outputs": [
        {
          "output_type": "stream",
          "name": "stdout",
          "text": [
            "2.11.0\n"
          ]
        }
      ],
      "source": [
        "import tensorflow as tf\n",
        "print(tf.__version__)"
      ]
    },
    {
      "cell_type": "code",
      "source": [
        "import numpy as np\n",
        "import matplotlib.pyplot as plt\n",
        "from tensorflow.keras.layers import Input, Conv2D, Dense, Flatten, Dropout\n",
        "from tensorflow.keras.models import Model\n",
        "from tensorflow.keras.layers import BatchNormalization\n",
        "from tensorflow.keras.layers import Conv2D, MaxPooling2D"
      ],
      "metadata": {
        "id": "tajUHPOnnYmc"
      },
      "execution_count": 14,
      "outputs": []
    },
    {
      "cell_type": "code",
      "source": [
        "fashion_mnist = tf.keras.datasets.fashion_mnist\n",
        "(x_train, y_train), (x_test, y_test) = fashion_mnist.load_data()\n",
        "x_train, x_test = x_train/255.0, x_test/255.0\n",
        "print(\"x_train.shape:\",x_train.shape)"
      ],
      "metadata": {
        "colab": {
          "base_uri": "https://localhost:8080/"
        },
        "id": "LRfXs19onbF0",
        "outputId": "3bef3174-2312-4cce-c3c6-57593423805b"
      },
      "execution_count": 10,
      "outputs": [
        {
          "output_type": "stream",
          "name": "stdout",
          "text": [
            "x_train.shape: (60000, 28, 28)\n"
          ]
        }
      ]
    },
    {
      "cell_type": "code",
      "source": [
        "#As the data is only 2D than is why for CNN we need to make it 3D channels\n",
        "x_train = np.expand_dims(x_train, -1)\n",
        "x_test = np.expand_dims(x_test, -1)\n",
        "print(\"x_train.shape:\",x_train.shape)"
      ],
      "metadata": {
        "colab": {
          "base_uri": "https://localhost:8080/"
        },
        "id": "TgPaCelIneW4",
        "outputId": "26f2c846-5098-460f-eff8-08bc8492021c"
      },
      "execution_count": 11,
      "outputs": [
        {
          "output_type": "stream",
          "name": "stdout",
          "text": [
            "x_train.shape: (60000, 28, 28, 1)\n"
          ]
        }
      ]
    },
    {
      "cell_type": "code",
      "source": [
        "# K is the number of classes|| number of unique elements\n",
        "K = len(set(y_train))\n",
        "print(\"K is the number of classes = \",K)"
      ],
      "metadata": {
        "colab": {
          "base_uri": "https://localhost:8080/"
        },
        "id": "Zgb9ErHKnh1h",
        "outputId": "70e2c8d4-6876-4a4b-cdf4-61c56254f997"
      },
      "execution_count": 12,
      "outputs": [
        {
          "output_type": "stream",
          "name": "stdout",
          "text": [
            "K is the number of classes =  10\n"
          ]
        }
      ]
    },
    {
      "cell_type": "code",
      "source": [
        "# Building the CNN model. This model is for the single input and a single output \n",
        "i = Input(shape = x_train[0].shape)\n",
        "x = Conv2D(32, (3,3), padding= 'same', activation = 'relu')(i)\n",
        "x = BatchNormalization()(x)\n",
        "x = Conv2D(32, (3,3), padding= 'same', activation = 'relu')(x)\n",
        "x = BatchNormalization()(x)\n",
        "x = MaxPooling2D((2,2))(x)\n",
        "x = Conv2D(64, (3,3), padding= 'same', activation = 'relu')(x)\n",
        "x = BatchNormalization()(x)\n",
        "x = Conv2D(64, (3,3), padding= 'same', activation = 'relu')(x)\n",
        "x = BatchNormalization()(x)\n",
        "x = MaxPooling2D((2,2))(x)\n",
        "x = Conv2D(128, (3,3), padding= 'same', activation = 'relu')(x)\n",
        "x = BatchNormalization()(x)\n",
        "x = Conv2D(128, (3,3), padding= 'same', activation = 'relu')(x)\n",
        "x = BatchNormalization()(x)\n",
        "x = MaxPooling2D((2,2))(x)\n",
        "x = Flatten()(x)\n",
        "x = Dropout(0.2)(x)\n",
        "x = Dense(1024, activation = 'relu')(x)\n",
        "x = Dropout(0.2)(x)\n",
        "x = Dense(K, activation = 'softmax')(x)\n",
        "model = Model(i,x)"
      ],
      "metadata": {
        "id": "m-_jTszWnkVJ"
      },
      "execution_count": 16,
      "outputs": []
    },
    {
      "cell_type": "code",
      "source": [
        "# Compile and fit the model\n",
        "model.compile(optimizer='adam',\n",
        "              loss = 'sparse_categorical_crossentropy',\n",
        "              metrics = ['accuracy'])\n",
        "\n",
        "r = model.fit(x_train, y_train, validation_data=(x_test, y_test), epochs= 50)"
      ],
      "metadata": {
        "colab": {
          "base_uri": "https://localhost:8080/"
        },
        "id": "7MYLp1_jqM1h",
        "outputId": "c4bb4553-3b91-4e1b-9d60-572b59f50482"
      },
      "execution_count": 17,
      "outputs": [
        {
          "output_type": "stream",
          "name": "stdout",
          "text": [
            "Epoch 1/50\n",
            "1875/1875 [==============================] - 29s 8ms/step - loss: 0.4088 - accuracy: 0.8564 - val_loss: 0.3094 - val_accuracy: 0.8855\n",
            "Epoch 2/50\n",
            "1875/1875 [==============================] - 15s 8ms/step - loss: 0.2640 - accuracy: 0.9043 - val_loss: 0.2659 - val_accuracy: 0.9023\n",
            "Epoch 3/50\n",
            "1875/1875 [==============================] - 14s 8ms/step - loss: 0.2241 - accuracy: 0.9181 - val_loss: 0.2492 - val_accuracy: 0.9071\n",
            "Epoch 4/50\n",
            "1875/1875 [==============================] - 15s 8ms/step - loss: 0.1998 - accuracy: 0.9278 - val_loss: 0.2335 - val_accuracy: 0.9160\n",
            "Epoch 5/50\n",
            "1875/1875 [==============================] - 14s 8ms/step - loss: 0.1766 - accuracy: 0.9350 - val_loss: 0.2407 - val_accuracy: 0.9172\n",
            "Epoch 6/50\n",
            "1875/1875 [==============================] - 15s 8ms/step - loss: 0.1567 - accuracy: 0.9423 - val_loss: 0.2122 - val_accuracy: 0.9255\n",
            "Epoch 7/50\n",
            "1875/1875 [==============================] - 15s 8ms/step - loss: 0.1373 - accuracy: 0.9490 - val_loss: 0.2204 - val_accuracy: 0.9256\n",
            "Epoch 8/50\n",
            "1875/1875 [==============================] - 14s 8ms/step - loss: 0.1223 - accuracy: 0.9542 - val_loss: 0.2203 - val_accuracy: 0.9270\n",
            "Epoch 9/50\n",
            "1875/1875 [==============================] - 15s 8ms/step - loss: 0.1070 - accuracy: 0.9601 - val_loss: 0.2324 - val_accuracy: 0.9207\n",
            "Epoch 10/50\n",
            "1875/1875 [==============================] - 15s 8ms/step - loss: 0.0957 - accuracy: 0.9646 - val_loss: 0.2481 - val_accuracy: 0.9290\n",
            "Epoch 11/50\n",
            "1875/1875 [==============================] - 16s 8ms/step - loss: 0.0848 - accuracy: 0.9681 - val_loss: 0.2403 - val_accuracy: 0.9292\n",
            "Epoch 12/50\n",
            "1875/1875 [==============================] - 16s 8ms/step - loss: 0.0751 - accuracy: 0.9721 - val_loss: 0.2306 - val_accuracy: 0.9334\n",
            "Epoch 13/50\n",
            "1875/1875 [==============================] - 16s 9ms/step - loss: 0.0662 - accuracy: 0.9760 - val_loss: 0.2452 - val_accuracy: 0.9314\n",
            "Epoch 14/50\n",
            "1875/1875 [==============================] - 16s 9ms/step - loss: 0.0648 - accuracy: 0.9759 - val_loss: 0.2480 - val_accuracy: 0.9313\n",
            "Epoch 15/50\n",
            "1875/1875 [==============================] - 16s 9ms/step - loss: 0.0545 - accuracy: 0.9800 - val_loss: 0.2700 - val_accuracy: 0.9310\n",
            "Epoch 16/50\n",
            "1875/1875 [==============================] - 17s 9ms/step - loss: 0.0530 - accuracy: 0.9805 - val_loss: 0.2793 - val_accuracy: 0.9293\n",
            "Epoch 17/50\n",
            "1875/1875 [==============================] - 18s 9ms/step - loss: 0.0472 - accuracy: 0.9833 - val_loss: 0.2827 - val_accuracy: 0.9335\n",
            "Epoch 18/50\n",
            "1875/1875 [==============================] - 18s 10ms/step - loss: 0.0450 - accuracy: 0.9834 - val_loss: 0.3017 - val_accuracy: 0.9315\n",
            "Epoch 19/50\n",
            "1875/1875 [==============================] - 18s 9ms/step - loss: 0.0445 - accuracy: 0.9847 - val_loss: 0.2954 - val_accuracy: 0.9346\n",
            "Epoch 20/50\n",
            "1875/1875 [==============================] - 17s 9ms/step - loss: 0.0377 - accuracy: 0.9865 - val_loss: 0.3275 - val_accuracy: 0.9315\n",
            "Epoch 21/50\n",
            "1875/1875 [==============================] - 17s 9ms/step - loss: 0.0382 - accuracy: 0.9863 - val_loss: 0.3085 - val_accuracy: 0.9351\n",
            "Epoch 22/50\n",
            "1875/1875 [==============================] - 17s 9ms/step - loss: 0.0376 - accuracy: 0.9869 - val_loss: 0.3150 - val_accuracy: 0.9348\n",
            "Epoch 23/50\n",
            "1875/1875 [==============================] - 17s 9ms/step - loss: 0.0327 - accuracy: 0.9884 - val_loss: 0.3278 - val_accuracy: 0.9258\n",
            "Epoch 24/50\n",
            "1875/1875 [==============================] - 16s 8ms/step - loss: 0.0333 - accuracy: 0.9883 - val_loss: 0.3880 - val_accuracy: 0.9337\n",
            "Epoch 25/50\n",
            "1875/1875 [==============================] - 17s 9ms/step - loss: 0.0317 - accuracy: 0.9885 - val_loss: 0.3602 - val_accuracy: 0.9300\n",
            "Epoch 26/50\n",
            "1875/1875 [==============================] - 17s 9ms/step - loss: 0.0280 - accuracy: 0.9906 - val_loss: 0.3524 - val_accuracy: 0.9370\n",
            "Epoch 27/50\n",
            "1875/1875 [==============================] - 16s 9ms/step - loss: 0.0278 - accuracy: 0.9907 - val_loss: 0.3743 - val_accuracy: 0.9323\n",
            "Epoch 28/50\n",
            "1875/1875 [==============================] - 16s 8ms/step - loss: 0.0299 - accuracy: 0.9896 - val_loss: 0.3603 - val_accuracy: 0.9328\n",
            "Epoch 29/50\n",
            "1875/1875 [==============================] - 21s 11ms/step - loss: 0.0264 - accuracy: 0.9908 - val_loss: 0.3506 - val_accuracy: 0.9323\n",
            "Epoch 30/50\n",
            "1875/1875 [==============================] - 17s 9ms/step - loss: 0.0243 - accuracy: 0.9916 - val_loss: 0.3373 - val_accuracy: 0.9370\n",
            "Epoch 31/50\n",
            "1875/1875 [==============================] - 16s 8ms/step - loss: 0.0276 - accuracy: 0.9907 - val_loss: 0.3464 - val_accuracy: 0.9338\n",
            "Epoch 32/50\n",
            "1875/1875 [==============================] - 18s 10ms/step - loss: 0.0235 - accuracy: 0.9920 - val_loss: 0.3502 - val_accuracy: 0.9355\n",
            "Epoch 33/50\n",
            "1875/1875 [==============================] - 16s 9ms/step - loss: 0.0234 - accuracy: 0.9921 - val_loss: 0.4039 - val_accuracy: 0.9372\n",
            "Epoch 34/50\n",
            "1875/1875 [==============================] - 16s 9ms/step - loss: 0.0221 - accuracy: 0.9924 - val_loss: 0.3752 - val_accuracy: 0.9320\n",
            "Epoch 35/50\n",
            "1875/1875 [==============================] - 19s 10ms/step - loss: 0.0212 - accuracy: 0.9928 - val_loss: 0.4418 - val_accuracy: 0.9340\n",
            "Epoch 36/50\n",
            "1875/1875 [==============================] - 17s 9ms/step - loss: 0.0224 - accuracy: 0.9923 - val_loss: 0.4372 - val_accuracy: 0.9352\n",
            "Epoch 37/50\n",
            "1875/1875 [==============================] - 17s 9ms/step - loss: 0.0211 - accuracy: 0.9930 - val_loss: 0.4499 - val_accuracy: 0.9301\n",
            "Epoch 38/50\n",
            "1875/1875 [==============================] - 17s 9ms/step - loss: 0.0209 - accuracy: 0.9931 - val_loss: 0.4322 - val_accuracy: 0.9278\n",
            "Epoch 39/50\n",
            "1875/1875 [==============================] - 17s 9ms/step - loss: 0.0206 - accuracy: 0.9930 - val_loss: 0.4123 - val_accuracy: 0.9356\n",
            "Epoch 40/50\n",
            "1875/1875 [==============================] - 16s 9ms/step - loss: 0.0184 - accuracy: 0.9938 - val_loss: 0.4271 - val_accuracy: 0.9347\n",
            "Epoch 41/50\n",
            "1875/1875 [==============================] - 15s 8ms/step - loss: 0.0221 - accuracy: 0.9930 - val_loss: 0.3523 - val_accuracy: 0.9335\n",
            "Epoch 42/50\n",
            "1875/1875 [==============================] - 15s 8ms/step - loss: 0.0173 - accuracy: 0.9945 - val_loss: 0.4244 - val_accuracy: 0.9342\n",
            "Epoch 43/50\n",
            "1875/1875 [==============================] - 15s 8ms/step - loss: 0.0189 - accuracy: 0.9935 - val_loss: 0.4070 - val_accuracy: 0.9367\n",
            "Epoch 44/50\n",
            "1875/1875 [==============================] - 15s 8ms/step - loss: 0.0178 - accuracy: 0.9941 - val_loss: 0.4775 - val_accuracy: 0.9338\n",
            "Epoch 45/50\n",
            "1875/1875 [==============================] - 15s 8ms/step - loss: 0.0191 - accuracy: 0.9938 - val_loss: 0.3760 - val_accuracy: 0.9365\n",
            "Epoch 46/50\n",
            "1875/1875 [==============================] - 14s 8ms/step - loss: 0.0155 - accuracy: 0.9949 - val_loss: 0.5021 - val_accuracy: 0.9366\n",
            "Epoch 47/50\n",
            "1875/1875 [==============================] - 14s 8ms/step - loss: 0.0194 - accuracy: 0.9938 - val_loss: 0.4280 - val_accuracy: 0.9345\n",
            "Epoch 48/50\n",
            "1875/1875 [==============================] - 15s 8ms/step - loss: 0.0157 - accuracy: 0.9947 - val_loss: 0.4618 - val_accuracy: 0.9372\n",
            "Epoch 49/50\n",
            "1875/1875 [==============================] - 15s 8ms/step - loss: 0.0172 - accuracy: 0.9942 - val_loss: 0.4418 - val_accuracy: 0.9340\n",
            "Epoch 50/50\n",
            "1875/1875 [==============================] - 15s 8ms/step - loss: 0.0172 - accuracy: 0.9944 - val_loss: 0.4549 - val_accuracy: 0.9332\n"
          ]
        }
      ]
    },
    {
      "cell_type": "code",
      "source": [
        "# Fit the data with Augmentation \n",
        "# If I run this after calling the previous model.fit(), it will continue training where it left off\n",
        "\n",
        "batch_size = 32\n",
        "data_generator = tf.keras.preprocessing.image.ImageDataGenerator(width_shift_range=0.1, height_shift_range = 0.1, horizontal_flip = True)\n",
        "train_generator = data_generator.flow(x_train,y_train,batch_size)\n",
        "steps_per_epoch = x_train.shape[0]//batch_size\n",
        "r = model.fit_generator(train_generator,validation_data = (x_test,y_test), steps_per_epoch = steps_per_epoch, epochs= 50)"
      ],
      "metadata": {
        "colab": {
          "base_uri": "https://localhost:8080/"
        },
        "id": "rcAgp00nsPEJ",
        "outputId": "fb138d33-7bd1-4796-a625-f3590458b3ba"
      },
      "execution_count": 18,
      "outputs": [
        {
          "output_type": "stream",
          "name": "stdout",
          "text": [
            "Epoch 1/50\n"
          ]
        },
        {
          "output_type": "stream",
          "name": "stderr",
          "text": [
            "<ipython-input-18-b331f6e087c0>:8: UserWarning: `Model.fit_generator` is deprecated and will be removed in a future version. Please use `Model.fit`, which supports generators.\n",
            "  r = model.fit_generator(train_generator,validation_data = (x_test,y_test), steps_per_epoch = steps_per_epoch, epochs= 50)\n"
          ]
        },
        {
          "output_type": "stream",
          "name": "stdout",
          "text": [
            "1875/1875 [==============================] - 31s 16ms/step - loss: 0.3837 - accuracy: 0.8710 - val_loss: 0.2069 - val_accuracy: 0.9281\n",
            "Epoch 2/50\n",
            "1875/1875 [==============================] - 28s 15ms/step - loss: 0.2770 - accuracy: 0.9011 - val_loss: 0.2056 - val_accuracy: 0.9284\n",
            "Epoch 3/50\n",
            "1875/1875 [==============================] - 29s 16ms/step - loss: 0.2454 - accuracy: 0.9124 - val_loss: 0.1992 - val_accuracy: 0.9323\n",
            "Epoch 4/50\n",
            "1875/1875 [==============================] - 29s 15ms/step - loss: 0.2268 - accuracy: 0.9180 - val_loss: 0.1878 - val_accuracy: 0.9332\n",
            "Epoch 5/50\n",
            "1875/1875 [==============================] - 29s 16ms/step - loss: 0.2157 - accuracy: 0.9214 - val_loss: 0.1954 - val_accuracy: 0.9284\n",
            "Epoch 6/50\n",
            "1875/1875 [==============================] - 30s 16ms/step - loss: 0.2100 - accuracy: 0.9250 - val_loss: 0.1912 - val_accuracy: 0.9345\n",
            "Epoch 7/50\n",
            "1875/1875 [==============================] - 29s 15ms/step - loss: 0.2021 - accuracy: 0.9272 - val_loss: 0.1953 - val_accuracy: 0.9327\n",
            "Epoch 8/50\n",
            "1875/1875 [==============================] - 28s 15ms/step - loss: 0.1963 - accuracy: 0.9293 - val_loss: 0.1855 - val_accuracy: 0.9354\n",
            "Epoch 9/50\n",
            "1875/1875 [==============================] - 29s 15ms/step - loss: 0.1916 - accuracy: 0.9306 - val_loss: 0.1861 - val_accuracy: 0.9364\n",
            "Epoch 10/50\n",
            "1875/1875 [==============================] - 29s 15ms/step - loss: 0.1861 - accuracy: 0.9335 - val_loss: 0.1808 - val_accuracy: 0.9363\n",
            "Epoch 11/50\n",
            "1875/1875 [==============================] - 29s 15ms/step - loss: 0.1810 - accuracy: 0.9341 - val_loss: 0.1875 - val_accuracy: 0.9360\n",
            "Epoch 12/50\n",
            "1875/1875 [==============================] - 28s 15ms/step - loss: 0.1769 - accuracy: 0.9353 - val_loss: 0.1947 - val_accuracy: 0.9373\n",
            "Epoch 13/50\n",
            "1875/1875 [==============================] - 29s 16ms/step - loss: 0.1755 - accuracy: 0.9356 - val_loss: 0.1827 - val_accuracy: 0.9368\n",
            "Epoch 14/50\n",
            "1875/1875 [==============================] - 30s 16ms/step - loss: 0.1684 - accuracy: 0.9392 - val_loss: 0.1849 - val_accuracy: 0.9368\n",
            "Epoch 15/50\n",
            "1875/1875 [==============================] - 29s 16ms/step - loss: 0.1673 - accuracy: 0.9387 - val_loss: 0.1830 - val_accuracy: 0.9355\n",
            "Epoch 16/50\n",
            "1875/1875 [==============================] - 30s 16ms/step - loss: 0.1662 - accuracy: 0.9392 - val_loss: 0.1891 - val_accuracy: 0.9378\n",
            "Epoch 17/50\n",
            "1875/1875 [==============================] - 30s 16ms/step - loss: 0.1630 - accuracy: 0.9407 - val_loss: 0.1797 - val_accuracy: 0.9375\n",
            "Epoch 18/50\n",
            "1875/1875 [==============================] - 29s 15ms/step - loss: 0.1588 - accuracy: 0.9420 - val_loss: 0.1848 - val_accuracy: 0.9381\n",
            "Epoch 19/50\n",
            "1875/1875 [==============================] - 29s 16ms/step - loss: 0.1590 - accuracy: 0.9420 - val_loss: 0.1732 - val_accuracy: 0.9379\n",
            "Epoch 20/50\n",
            "1875/1875 [==============================] - 30s 16ms/step - loss: 0.1536 - accuracy: 0.9437 - val_loss: 0.1849 - val_accuracy: 0.9367\n",
            "Epoch 21/50\n",
            "1875/1875 [==============================] - 29s 16ms/step - loss: 0.1530 - accuracy: 0.9452 - val_loss: 0.1919 - val_accuracy: 0.9354\n",
            "Epoch 22/50\n",
            "1875/1875 [==============================] - 30s 16ms/step - loss: 0.1512 - accuracy: 0.9454 - val_loss: 0.1858 - val_accuracy: 0.9376\n",
            "Epoch 23/50\n",
            "1875/1875 [==============================] - 31s 16ms/step - loss: 0.1495 - accuracy: 0.9454 - val_loss: 0.1818 - val_accuracy: 0.9384\n",
            "Epoch 24/50\n",
            "1875/1875 [==============================] - 31s 17ms/step - loss: 0.1491 - accuracy: 0.9460 - val_loss: 0.1901 - val_accuracy: 0.9386\n",
            "Epoch 25/50\n",
            "1875/1875 [==============================] - 29s 16ms/step - loss: 0.1443 - accuracy: 0.9470 - val_loss: 0.1868 - val_accuracy: 0.9421\n",
            "Epoch 26/50\n",
            "1875/1875 [==============================] - 30s 16ms/step - loss: 0.1421 - accuracy: 0.9486 - val_loss: 0.1761 - val_accuracy: 0.9415\n",
            "Epoch 27/50\n",
            "1875/1875 [==============================] - 29s 15ms/step - loss: 0.1400 - accuracy: 0.9484 - val_loss: 0.1985 - val_accuracy: 0.9390\n",
            "Epoch 28/50\n",
            "1875/1875 [==============================] - 30s 16ms/step - loss: 0.1376 - accuracy: 0.9500 - val_loss: 0.1916 - val_accuracy: 0.9393\n",
            "Epoch 29/50\n",
            "1875/1875 [==============================] - 30s 16ms/step - loss: 0.1378 - accuracy: 0.9486 - val_loss: 0.1927 - val_accuracy: 0.9367\n",
            "Epoch 30/50\n",
            "1875/1875 [==============================] - 30s 16ms/step - loss: 0.1361 - accuracy: 0.9500 - val_loss: 0.1864 - val_accuracy: 0.9386\n",
            "Epoch 31/50\n",
            "1875/1875 [==============================] - 30s 16ms/step - loss: 0.1345 - accuracy: 0.9505 - val_loss: 0.1837 - val_accuracy: 0.9442\n",
            "Epoch 32/50\n",
            "1875/1875 [==============================] - 29s 16ms/step - loss: 0.1320 - accuracy: 0.9512 - val_loss: 0.1826 - val_accuracy: 0.9415\n",
            "Epoch 33/50\n",
            "1875/1875 [==============================] - 29s 16ms/step - loss: 0.1286 - accuracy: 0.9531 - val_loss: 0.1858 - val_accuracy: 0.9393\n",
            "Epoch 34/50\n",
            "1875/1875 [==============================] - 29s 15ms/step - loss: 0.1284 - accuracy: 0.9532 - val_loss: 0.1875 - val_accuracy: 0.9408\n",
            "Epoch 35/50\n",
            "1875/1875 [==============================] - 29s 16ms/step - loss: 0.1299 - accuracy: 0.9534 - val_loss: 0.1825 - val_accuracy: 0.9441\n",
            "Epoch 36/50\n",
            "1875/1875 [==============================] - 30s 16ms/step - loss: 0.1261 - accuracy: 0.9538 - val_loss: 0.1928 - val_accuracy: 0.9363\n",
            "Epoch 37/50\n",
            "1875/1875 [==============================] - 29s 15ms/step - loss: 0.1279 - accuracy: 0.9531 - val_loss: 0.1836 - val_accuracy: 0.9430\n",
            "Epoch 38/50\n",
            "1875/1875 [==============================] - 29s 16ms/step - loss: 0.1249 - accuracy: 0.9537 - val_loss: 0.1963 - val_accuracy: 0.9408\n",
            "Epoch 39/50\n",
            "1875/1875 [==============================] - 29s 16ms/step - loss: 0.1242 - accuracy: 0.9547 - val_loss: 0.1839 - val_accuracy: 0.9397\n",
            "Epoch 40/50\n",
            "1875/1875 [==============================] - 29s 16ms/step - loss: 0.1226 - accuracy: 0.9554 - val_loss: 0.1838 - val_accuracy: 0.9429\n",
            "Epoch 41/50\n",
            "1875/1875 [==============================] - 29s 16ms/step - loss: 0.1234 - accuracy: 0.9547 - val_loss: 0.1903 - val_accuracy: 0.9388\n",
            "Epoch 42/50\n",
            "1875/1875 [==============================] - 28s 15ms/step - loss: 0.1208 - accuracy: 0.9557 - val_loss: 0.2119 - val_accuracy: 0.9431\n",
            "Epoch 43/50\n",
            "1875/1875 [==============================] - 29s 15ms/step - loss: 0.1187 - accuracy: 0.9565 - val_loss: 0.1881 - val_accuracy: 0.9395\n",
            "Epoch 44/50\n",
            "1875/1875 [==============================] - 29s 16ms/step - loss: 0.1207 - accuracy: 0.9561 - val_loss: 0.1877 - val_accuracy: 0.9417\n",
            "Epoch 45/50\n",
            "1875/1875 [==============================] - 29s 15ms/step - loss: 0.1162 - accuracy: 0.9575 - val_loss: 0.1898 - val_accuracy: 0.9406\n",
            "Epoch 46/50\n",
            "1875/1875 [==============================] - 29s 15ms/step - loss: 0.1149 - accuracy: 0.9572 - val_loss: 0.2092 - val_accuracy: 0.9398\n",
            "Epoch 47/50\n",
            "1875/1875 [==============================] - 30s 16ms/step - loss: 0.1140 - accuracy: 0.9575 - val_loss: 0.1934 - val_accuracy: 0.9422\n",
            "Epoch 48/50\n",
            "1875/1875 [==============================] - 28s 15ms/step - loss: 0.1156 - accuracy: 0.9568 - val_loss: 0.2108 - val_accuracy: 0.9376\n",
            "Epoch 49/50\n",
            "1875/1875 [==============================] - 29s 15ms/step - loss: 0.1116 - accuracy: 0.9588 - val_loss: 0.1905 - val_accuracy: 0.9424\n",
            "Epoch 50/50\n",
            "1875/1875 [==============================] - 29s 16ms/step - loss: 0.1127 - accuracy: 0.9586 - val_loss: 0.1903 - val_accuracy: 0.9401\n"
          ]
        }
      ]
    },
    {
      "cell_type": "code",
      "source": [
        "#Plotting the loss per iteration \n",
        "plt.plot(r.history['loss'], label = 'loss')\n",
        "plt.plot(r.history['val_loss'], label = 'val_loss')\n",
        "plt.legend()"
      ],
      "metadata": {
        "colab": {
          "base_uri": "https://localhost:8080/",
          "height": 282
        },
        "id": "nJ223f9Y2q7N",
        "outputId": "575aeb90-2b50-41df-8c06-b903606a84c0"
      },
      "execution_count": 19,
      "outputs": [
        {
          "output_type": "execute_result",
          "data": {
            "text/plain": [
              "<matplotlib.legend.Legend at 0x7f0506231dc0>"
            ]
          },
          "metadata": {},
          "execution_count": 19
        },
        {
          "output_type": "display_data",
          "data": {
            "text/plain": [
              "<Figure size 432x288 with 1 Axes>"
            ],
            "image/png": "[encoded data removed]"
          },
          "metadata": {
            "needs_background": "light"
          }
        }
      ]
    },
    {
      "cell_type": "code",
      "source": [
        "# Plotting accuracy per iteration \n",
        "plt.plot(r.history['accuracy'], label = 'acc')\n",
        "plt.plot(r.history['val_accuracy'], label = 'val_loss')\n",
        "plt.legend()"
      ],
      "metadata": {
        "colab": {
          "base_uri": "https://localhost:8080/",
          "height": 282
        },
        "id": "xwKuzIew23Ro",
        "outputId": "b8044291-73be-42eb-ee3d-11b7b5140e2d"
      },
      "execution_count": 20,
      "outputs": [
        {
          "output_type": "execute_result",
          "data": {
            "text/plain": [
              "<matplotlib.legend.Legend at 0x7f0506a55e80>"
            ]
          },
          "metadata": {},
          "execution_count": 20
        },
        {
          "output_type": "display_data",
          "data": {
            "text/plain": [
              "<Figure size 432x288 with 1 Axes>"
            ],
            "image/png": "[encoded data removed]"
          },
          "metadata": {
            "needs_background": "light"
          }
        }
      ]
    },
    {
      "cell_type": "code",
      "source": [
        "from prompt_toolkit.layout import HorizontalAlign\n",
        "# Plotting the confusion matrix\n",
        "from sklearn.metrics import confusion_matrix\n",
        "import itertools\n",
        "def plot_confusion_matrix(cm, classes,\n",
        "                          normalize = False,\n",
        "                          title = 'Confusion Matrix',\n",
        "                          cmap = plt.cm.Blues):\n",
        "  \n",
        "  if normalize:\n",
        "    cm = cm.astype('float')/ cm.sum(axis = 1)[:, np.newaxis]\n",
        "    print(\"Normalized confusion matix\")\n",
        "  else:\n",
        "    print('Confusion matrix, without normalization')\n",
        "  print(cm)\n",
        "\n",
        "  plt.imshow(cm, interpolation = 'nearest', cmap= cmap)\n",
        "  plt.title(title)\n",
        "  plt.colorbar()\n",
        "  tick_marks = np.arange(len(classes))\n",
        "  plt.xticks(tick_marks, classes, rotation = 45)\n",
        "  plt.yticks(tick_marks, classes)\n",
        "\n",
        "  fmt = '.2f' if normalize else 'd'\n",
        "  thresh = cm.max()/2.\n",
        "  for i, j in itertools.product(range(cm.shape[0]), range(cm.shape[1])):\n",
        "    plt.text(j, i, format(cm[i,j],fmt),\n",
        "             horizontalalignment = 'center',\n",
        "             color = 'white' if cm[i,j]> thresh else 'black')\n",
        "  plt.tight_layout()\n",
        "  plt.ylabel('True Label')\n",
        "  plt.xlabel(\"Predicted Label\")\n",
        "  plt.show()\n",
        "\n",
        "p_test = model.predict(x_test).argmax(axis=1)\n",
        "cm = confusion_matrix(y_test,p_test)\n",
        "plot_confusion_matrix(cm, list(range(10)))"
      ],
      "metadata": {
        "colab": {
          "base_uri": "https://localhost:8080/",
          "height": 519
        },
        "id": "AL74Vk394Yy9",
        "outputId": "338d699f-62e4-417a-a4e8-9c3670382ac3"
      },
      "execution_count": 21,
      "outputs": [
        {
          "output_type": "stream",
          "name": "stdout",
          "text": [
            "313/313 [==============================] - 1s 3ms/step\n",
            "Confusion matrix, without normalization\n",
            "[[849   2  12  15   1   0 117   0   4   0]\n",
            " [  0 994   0   4   0   0   1   0   1   0]\n",
            " [ 15   1 916   9  21   0  38   0   0   0]\n",
            " [  4   2   6 952  10   0  25   0   1   0]\n",
            " [  1   0  19  29 919   0  32   0   0   0]\n",
            " [  0   0   0   0   0 984   0   7   1   8]\n",
            " [ 55   1  26  20  37   0 859   0   2   0]\n",
            " [  0   0   0   0   0   9   0 972   0  19]\n",
            " [  1   1   0   3   1   1   3   0 990   0]\n",
            " [  0   0   0   0   0   4   0  29   1 966]]\n"
          ]
        },
        {
          "output_type": "display_data",
          "data": {
            "text/plain": [
              "<Figure size 432x288 with 2 Axes>"
            ],
            "image/png": "[encoded data removed]"
          },
          "metadata": {
            "needs_background": "light"
          }
        }
      ]
    },
    {
      "cell_type": "code",
      "source": [
        "# From the confusion matrix we observe that the model is pretty much confused with \n",
        "# to differentiate between [0]= 'T-shirt/top and [6]='shirt' which is 123 and make sense\n",
        "labels = '''T-shirt/top\n",
        "Trouser\n",
        "Pullover\n",
        "Dress\n",
        "Coat\n",
        "Sandal\n",
        "Shirt\n",
        "Sneaker\n",
        "Bag\n",
        "Ankle boot'''.split()\n",
        "misclassified_idx = np.where(p_test != y_test)[0]\n",
        "i = np.random.choice(misclassified_idx)\n",
        "plt.imshow(x_test[i].reshape(28,28), cmap = 'gray')\n",
        "plt.title(\"True Label: %s Predicted Label: %s\" %(labels[y_test[i]], labels[p_test[i]]));\n"
      ],
      "metadata": {
        "colab": {
          "base_uri": "https://localhost:8080/",
          "height": 281
        },
        "id": "Gi_XuZjS4pUQ",
        "outputId": "33dbef5c-6c6e-4711-8fce-f84995250023"
      },
      "execution_count": 26,
      "outputs": [
        {
          "output_type": "display_data",
          "data": {
            "text/plain": [
              "<Figure size 432x288 with 1 Axes>"
            ],
            "image/png": "[encoded data removed]"
          },
          "metadata": {
            "needs_background": "light"
          }
        }
      ]
    },
    {
      "cell_type": "code",
      "source": [
        "model.summary()"
      ],
      "metadata": {
        "colab": {
          "base_uri": "https://localhost:8080/"
        },
        "id": "iQejoKLuAxsN",
        "outputId": "dc27bd7d-90e2-468a-b78c-9ab1768a4c90"
      },
      "execution_count": 30,
      "outputs": [
        {
          "output_type": "stream",
          "name": "stdout",
          "text": [
            "Model: \"model\"\n",
            "_________________________________________________________________\n",
            " Layer (type)                Output Shape              Param #   \n",
            "=================================================================\n",
            " input_4 (InputLayer)        [(None, 28, 28, 1)]       0         \n",
            "                                                                 \n",
            " conv2d_9 (Conv2D)           (None, 28, 28, 32)        320       \n",
            "                                                                 \n",
            " batch_normalization_8 (Batc  (None, 28, 28, 32)       128       \n",
            " hNormalization)                                                 \n",
            "                                                                 \n",
            " conv2d_10 (Conv2D)          (None, 28, 28, 32)        9248      \n",
            "                                                                 \n",
            " batch_normalization_9 (Batc  (None, 28, 28, 32)       128       \n",
            " hNormalization)                                                 \n",
            "                                                                 \n",
            " max_pooling2d_3 (MaxPooling  (None, 14, 14, 32)       0         \n",
            " 2D)                                                             \n",
            "                                                                 \n",
            " conv2d_11 (Conv2D)          (None, 14, 14, 64)        18496     \n",
            "                                                                 \n",
            " batch_normalization_10 (Bat  (None, 14, 14, 64)       256       \n",
            " chNormalization)                                                \n",
            "                                                                 \n",
            " conv2d_12 (Conv2D)          (None, 14, 14, 64)        36928     \n",
            "                                                                 \n",
            " batch_normalization_11 (Bat  (None, 14, 14, 64)       256       \n",
            " chNormalization)                                                \n",
            "                                                                 \n",
            " max_pooling2d_4 (MaxPooling  (None, 7, 7, 64)         0         \n",
            " 2D)                                                             \n",
            "                                                                 \n",
            " conv2d_13 (Conv2D)          (None, 7, 7, 128)         73856     \n",
            "                                                                 \n",
            " batch_normalization_12 (Bat  (None, 7, 7, 128)        512       \n",
            " chNormalization)                                                \n",
            "                                                                 \n",
            " conv2d_14 (Conv2D)          (None, 7, 7, 128)         147584    \n",
            "                                                                 \n",
            " batch_normalization_13 (Bat  (None, 7, 7, 128)        512       \n",
            " chNormalization)                                                \n",
            "                                                                 \n",
            " max_pooling2d_5 (MaxPooling  (None, 3, 3, 128)        0         \n",
            " 2D)                                                             \n",
            "                                                                 \n",
            " flatten_1 (Flatten)         (None, 1152)              0         \n",
            "                                                                 \n",
            " dropout_1 (Dropout)         (None, 1152)              0         \n",
            "                                                                 \n",
            " dense (Dense)               (None, 1024)              1180672   \n",
            "                                                                 \n",
            " dropout_2 (Dropout)         (None, 1024)              0         \n",
            "                                                                 \n",
            " dense_1 (Dense)             (None, 10)                10250     \n",
            "                                                                 \n",
            "=================================================================\n",
            "Total params: 1,479,146\n",
            "Trainable params: 1,478,250\n",
            "Non-trainable params: 896\n",
            "_________________________________________________________________\n"
          ]
        }
      ]
    }
  ]
}