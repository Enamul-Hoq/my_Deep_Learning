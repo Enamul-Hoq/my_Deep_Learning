{
  "nbformat": 4,
  "nbformat_minor": 0,
  "metadata": {
    "colab": {
      "provenance": [],
      "machine_shape": "hm",
      "gpuType": "A100"
    },
    "kernelspec": {
      "name": "python3",
      "display_name": "Python 3"
    },
    "language_info": {
      "name": "python"
    },
    "accelerator": "GPU"
  },
  "cells": [
    {
      "cell_type": "code",
      "execution_count": 1,
      "metadata": {
        "colab": {
          "base_uri": "https://localhost:8080/"
        },
        "id": "0FDPu6IFJFoY",
        "outputId": "90ecaa34-482a-4c0c-ed0a-b3e86fd2c6b0"
      },
      "outputs": [
        {
          "output_type": "stream",
          "name": "stdout",
          "text": [
            "Collecting pydicom\n",
            "  Downloading pydicom-2.4.4-py3-none-any.whl (1.8 MB)\n",
            "\u001b[?25l     \u001b[90m━━━━━━━━━━━━━━━━━━━━━━━━━━━━━━━━━━━━━━━━\u001b[0m \u001b[32m0.0/1.8 MB\u001b[0m \u001b[31m?\u001b[0m eta \u001b[36m-:--:--\u001b[0m\r\u001b[2K     \u001b[91m━━━━━━━━━━━━━━━━━━━━━━━━━━━━━━━━━\u001b[0m\u001b[91m╸\u001b[0m\u001b[90m━━━━━━\u001b[0m \u001b[32m1.5/1.8 MB\u001b[0m \u001b[31m44.4 MB/s\u001b[0m eta \u001b[36m0:00:01\u001b[0m\r\u001b[2K     \u001b[90m━━━━━━━━━━━━━━━━━━━━━━━━━━━━━━━━━━━━━━━━\u001b[0m \u001b[32m1.8/1.8 MB\u001b[0m \u001b[31m30.6 MB/s\u001b[0m eta \u001b[36m0:00:00\u001b[0m\n",
            "\u001b[?25hRequirement already satisfied: numpy in /usr/local/lib/python3.10/dist-packages (1.25.2)\n",
            "Requirement already satisfied: matplotlib in /usr/local/lib/python3.10/dist-packages (3.7.1)\n",
            "Requirement already satisfied: contourpy>=1.0.1 in /usr/local/lib/python3.10/dist-packages (from matplotlib) (1.2.1)\n",
            "Requirement already satisfied: cycler>=0.10 in /usr/local/lib/python3.10/dist-packages (from matplotlib) (0.12.1)\n",
            "Requirement already satisfied: fonttools>=4.22.0 in /usr/local/lib/python3.10/dist-packages (from matplotlib) (4.53.0)\n",
            "Requirement already satisfied: kiwisolver>=1.0.1 in /usr/local/lib/python3.10/dist-packages (from matplotlib) (1.4.5)\n",
            "Requirement already satisfied: packaging>=20.0 in /usr/local/lib/python3.10/dist-packages (from matplotlib) (24.1)\n",
            "Requirement already satisfied: pillow>=6.2.0 in /usr/local/lib/python3.10/dist-packages (from matplotlib) (9.4.0)\n",
            "Requirement already satisfied: pyparsing>=2.3.1 in /usr/local/lib/python3.10/dist-packages (from matplotlib) (3.1.2)\n",
            "Requirement already satisfied: python-dateutil>=2.7 in /usr/local/lib/python3.10/dist-packages (from matplotlib) (2.8.2)\n",
            "Requirement already satisfied: six>=1.5 in /usr/local/lib/python3.10/dist-packages (from python-dateutil>=2.7->matplotlib) (1.16.0)\n",
            "Installing collected packages: pydicom\n",
            "Successfully installed pydicom-2.4.4\n"
          ]
        }
      ],
      "source": [
        "!pip install pydicom numpy matplotlib"
      ]
    },
    {
      "cell_type": "markdown",
      "source": [
        "Step-by-Step Implementation\n",
        "Load the DICOM Image: Use PyDicom to read the DICOM file.\n",
        "Compute Global Features: Generate a histogram of pixel intensities.\n",
        "Extract Local Features: Identify and display specific regions of interest (e.g., nodules).\n",
        "Visualize the Features: Use Matplotlib to display the image with annotations for global and local features.\n"
      ],
      "metadata": {
        "id": "pGy-KR6QdrwJ"
      }
    },
    {
      "cell_type": "code",
      "source": [
        "import os\n",
        "import pydicom\n",
        "import numpy as np\n",
        "import matplotlib.pyplot as plt\n",
        "\n",
        "def load_dicom_image(dicom_path):\n",
        "    ds = pydicom.dcmread(dicom_path)\n",
        "    return ds.pixel_array\n",
        "\n",
        "def compute_global_features(image):\n",
        "    hist, bin_edges = np.histogram(image, bins=100, range=(np.min(image), np.max(image)))\n",
        "    normalized_image = (image - np.min(image)) / (np.max(image) - np.min(image))\n",
        "    return hist, bin_edges, normalized_image\n",
        "\n",
        "def compute_local_features(image, roi_start, roi_size):\n",
        "    roi = image[roi_start[0]:roi_start[0] + roi_size[0], roi_start[1]:roi_start[1] + roi_size[1]]\n",
        "    roi_hist, roi_bin_edges = np.histogram(roi, bins=100, range=(0, 1))\n",
        "    return roi, roi_hist, roi_bin_edges\n",
        "\n",
        "def visualize_features(normalized_image, hist, bin_edges, roi, roi_hist, roi_bin_edges, roi_start, roi_size):\n",
        "    fig, axes = plt.subplots(2, 2, figsize=(12, 10))\n",
        "\n",
        "    # Display the original DICOM image\n",
        "    axes[0, 0].imshow(normalized_image, cmap='gray')\n",
        "    axes[0, 0].set_title('Original DICOM Image')\n",
        "    axes[0, 0].axis('off')\n",
        "\n",
        "    # Display the global histogram\n",
        "    axes[0, 1].plot(bin_edges[:-1], hist)\n",
        "    axes[0, 1].set_title('Global Histogram of Pixel Intensities')\n",
        "    axes[0, 1].set_xlabel('Pixel Intensity')\n",
        "    axes[0, 1].set_ylabel('Frequency')\n",
        "\n",
        "    # Display the region of interest\n",
        "    axes[1, 0].imshow(roi, cmap='gray')\n",
        "    axes[1, 0].set_title('Region of Interest (ROI)')\n",
        "    axes[1, 0].axis('off')\n",
        "\n",
        "    # Display the local histogram for the ROI\n",
        "    axes[1, 1].plot(roi_bin_edges[:-1], roi_hist)\n",
        "    axes[1, 1].set_title('Local Histogram of ROI Pixel Intensities')\n",
        "    axes[1, 1].set_xlabel('Pixel Intensity')\n",
        "    axes[1, 1].set_ylabel('Frequency')\n",
        "\n",
        "    # Highlight the ROI on the original image\n",
        "    rect = plt.Rectangle(roi_start, roi_size[1], roi_size[0], edgecolor='red', facecolor='none')\n",
        "    axes[0, 0].add_patch(rect)\n",
        "\n",
        "    plt.tight_layout()\n",
        "    plt.show()\n",
        "\n",
        "# Define the input directory containing DICOM files\n",
        "input_dir = '/content/drive/My Drive/manifest/NLST/100002/'\n",
        "\n",
        "# Define a region of interest (ROI) - this is just an example\n",
        "roi_start = (200, 200)\n",
        "roi_size = (100, 100)\n",
        "\n",
        "# Process each DICOM file in the directory\n",
        "for root, _, files in os.walk(input_dir):\n",
        "    for file in files:\n",
        "        if file.endswith('.dcm'):\n",
        "            dicom_path = os.path.join(root, file)\n",
        "            print(f\"Processing file: {dicom_path}\")\n",
        "\n",
        "            # Load the DICOM image\n",
        "            image = load_dicom_image(dicom_path)\n",
        "\n",
        "            # Compute global features\n",
        "            hist, bin_edges, normalized_image = compute_global_features(image)\n",
        "\n",
        "            # Compute local features\n",
        "            roi, roi_hist, roi_bin_edges = compute_local_features(normalized_image, roi_start, roi_size)\n",
        "\n",
        "            # Visualize the features\n",
        "            visualize_features(normalized_image, hist, bin_edges, roi, roi_hist, roi_bin_edges, roi_start, roi_size)\n"
      ],
      "metadata": {
        "id": "Ibkzud6dKMKy"
      },
      "execution_count": null,
      "outputs": []
    },
    {
      "cell_type": "markdown",
      "source": [
        "Explanation\n",
        "Mount Google Drive: The Google Drive is mounted to access and save files.\n",
        "Load the DICOM Image: The load_dicom_image function reads a DICOM file and returns the pixel array.\n",
        "Compute Global Features: The compute_global_features function calculates the histogram and normalizes the image.\n",
        "Compute Local Features: The compute_local_features function extracts a region of interest (ROI) and computes its histogram.\n",
        "Visualize Features: The visualize_features function uses Matplotlib to display the original image, global histogram, ROI, and local histogram, and saves the visualizations to the specified output path in Google Drive.\n",
        "Process Directory: The script iterates over all DICOM files in the specified directory and processes each file.\n",
        "Running the Code\n",
        "Mount Your Google Drive: Run the cell to mount your Google Drive.\n",
        "Update the input_dir and output_dir: Ensure the input_dir points to the directory containing your DICOM files and the output_dir points to the directory where you want to save the visualizations.\n",
        "Execute the Script: Run the script in your Python environment (e.g., Jupyter notebook or Google Colab).\n",
        "By following these steps, the script will process each DICOM file, visualize both global and local features, and save the visualizations to your Google Drive."
      ],
      "metadata": {
        "id": "JPhx1hU8d7sb"
      }
    }
  ]
}